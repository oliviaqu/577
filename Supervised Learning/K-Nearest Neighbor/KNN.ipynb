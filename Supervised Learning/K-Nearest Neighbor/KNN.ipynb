{
 "cells": [
  {
   "cell_type": "markdown",
   "id": "14dc56b5",
   "metadata": {},
   "source": [
    "# K-Nearest Neighbors (KNN) "
   ]
  },
  {
   "cell_type": "markdown",
   "id": "505cebde",
   "metadata": {},
   "source": [
    "In this section we focus on a simple and straight-forward machine learning model, k-nearest neighbors (KNN).\n",
    "\n",
    "KNN is a non-parametric supervised model, and its main idea is to classify or regress by compute the k closest training examples in the data set."
   ]
  },
  {
   "cell_type": "markdown",
   "id": "5b4e3e30",
   "metadata": {},
   "source": [
    "### 1. KNN Algorithm"
   ]
  },
  {
   "cell_type": "markdown",
   "id": "e442df01",
   "metadata": {},
   "source": [
    "For our distance measure, we will choose the Euclidean distance defined by the following equation:\n",
    "\n",
    "$$ d(p, q) = \\sqrt{(p - q)^{T} (p - q)} $$"
   ]
  },
  {
   "cell_type": "code",
   "execution_count": 17,
   "id": "e51089d4",
   "metadata": {},
   "outputs": [],
   "source": [
    "def distance(p, q):\n",
    "    return np.sqrt((p - q) @ (p - q))\n"
   ]
  },
  {
   "cell_type": "markdown",
   "id": "b07b5307",
   "metadata": {},
   "source": [
    "With our distance function, we are now ready to write a function to compute the $k$-nearest neighbors to a given point. This is done in the code cell below."
   ]
  },
  {
   "cell_type": "code",
   "execution_count": 18,
   "id": "d23e0aad",
   "metadata": {},
   "outputs": [],
   "source": [
    "def k_nearest_neighbors(point, \n",
    "                        training_features, \n",
    "                        training_labels, \n",
    "                        k):\n",
    "    # Create an empty list to store neighbors and distances\n",
    "    neighbors = []\n",
    "    \n",
    "    for p, label in zip(training_features, training_labels):\n",
    "        d = distance(point, p)\n",
    "        temp_data = [p, label, d]\n",
    "        neighbors.append(temp_data)\n",
    "        \n",
    "    neighbors.sort(key = lambda x : x[-1])\n",
    "    \n",
    "    return neighbors[:k]"
   ]
  },
  {
   "cell_type": "markdown",
   "id": "125bfe89",
   "metadata": {},
   "source": [
    "Now that we have a function to compute the $k$-nearest neighbors to a point, we can now write a function to predict a target label. However, we should note that KNN can be used for both classification and regression machine learning. This is shown in the code cell below."
   ]
  },
  {
   "cell_type": "code",
   "execution_count": 19,
   "id": "843bfe02",
   "metadata": {},
   "outputs": [],
   "source": [
    "def KNN_Predict(point, \n",
    "                training_features, \n",
    "                training_labels, \n",
    "                k, \n",
    "                regression = False):\n",
    "    \n",
    "    neighbors = k_nearest_neighbors(point, \n",
    "                                    training_features, \n",
    "                                    training_labels, \n",
    "                                    k)\n",
    "    \n",
    "    if regression == False:\n",
    "        labels = [x[1] for x in neighbors]\n",
    "        return max(labels, key = labels.count)\n",
    "    \n",
    "    else:\n",
    "        return sum(x[1] for x in neighbors)/k"
   ]
  },
  {
   "cell_type": "markdown",
   "id": "74c9832a",
   "metadata": {},
   "source": [
    "Next we write a function to compute the classification error"
   ]
  },
  {
   "cell_type": "code",
   "execution_count": 20,
   "id": "807c74dd",
   "metadata": {},
   "outputs": [],
   "source": [
    "def classification_error(test_features, \n",
    "                         test_labels,\n",
    "                         training_features, \n",
    "                         training_labels,\n",
    "                         k):\n",
    "    error = 0\n",
    "    for point, label in zip(test_features, test_labels):\n",
    "        error += label != KNN_Predict(point, \n",
    "                                      training_features, \n",
    "                                      training_labels, \n",
    "                                      k)\n",
    "    return error/len(test_features)"
   ]
  },
  {
   "cell_type": "markdown",
   "id": "4c5114c7",
   "metadata": {},
   "source": [
    "### 2. Classification"
   ]
  },
  {
   "cell_type": "markdown",
   "id": "0d21e44e",
   "metadata": {},
   "source": [
    "For classification problem, we will implement and train this model on the palmerpenguins dataset, and get started by running the following code in the cell below."
   ]
  },
  {
   "cell_type": "code",
   "execution_count": 3,
   "id": "fc56eece",
   "metadata": {},
   "outputs": [],
   "source": [
    "import numpy as np\n",
    "import pandas as pd\n",
    "from sklearn import datasets\n",
    "from sklearn.model_selection import train_test_split\n",
    "from sklearn.preprocessing import StandardScaler\n",
    "import matplotlib.pyplot as plt\n",
    "from collections import Counter\n",
    "import seaborn as sns\n",
    "\n",
    "# Import a nice function for plotting decision boudaries\n",
    "from mlxtend.plotting import plot_decision_regions\n",
    "\n",
    "# Set the Seaborn theme\n",
    "sns.set_theme()\n",
    "\n",
    "# Read the palmerpenguins dataset into a pandas DataFrame object\n",
    "df = pd.read_csv(\"palmer_penguins.csv\")"
   ]
  },
  {
   "cell_type": "markdown",
   "id": "c74705b0",
   "metadata": {},
   "source": [
    "###  2.1 Data preprocessing"
   ]
  },
  {
   "cell_type": "code",
   "execution_count": 4,
   "id": "17664725",
   "metadata": {},
   "outputs": [
    {
     "data": {
      "text/html": [
       "<div>\n",
       "<style scoped>\n",
       "    .dataframe tbody tr th:only-of-type {\n",
       "        vertical-align: middle;\n",
       "    }\n",
       "\n",
       "    .dataframe tbody tr th {\n",
       "        vertical-align: top;\n",
       "    }\n",
       "\n",
       "    .dataframe thead th {\n",
       "        text-align: right;\n",
       "    }\n",
       "</style>\n",
       "<table border=\"1\" class=\"dataframe\">\n",
       "  <thead>\n",
       "    <tr style=\"text-align: right;\">\n",
       "      <th></th>\n",
       "      <th>Unnamed: 0</th>\n",
       "      <th>species</th>\n",
       "      <th>island</th>\n",
       "      <th>bill_length_mm</th>\n",
       "      <th>bill_depth_mm</th>\n",
       "      <th>flipper_length_mm</th>\n",
       "      <th>body_mass_g</th>\n",
       "      <th>sex</th>\n",
       "    </tr>\n",
       "  </thead>\n",
       "  <tbody>\n",
       "    <tr>\n",
       "      <th>0</th>\n",
       "      <td>0</td>\n",
       "      <td>Adelie</td>\n",
       "      <td>Torgersen</td>\n",
       "      <td>39.1</td>\n",
       "      <td>18.7</td>\n",
       "      <td>181.0</td>\n",
       "      <td>3750.0</td>\n",
       "      <td>Male</td>\n",
       "    </tr>\n",
       "    <tr>\n",
       "      <th>1</th>\n",
       "      <td>1</td>\n",
       "      <td>Adelie</td>\n",
       "      <td>Torgersen</td>\n",
       "      <td>39.5</td>\n",
       "      <td>17.4</td>\n",
       "      <td>186.0</td>\n",
       "      <td>3800.0</td>\n",
       "      <td>Female</td>\n",
       "    </tr>\n",
       "    <tr>\n",
       "      <th>2</th>\n",
       "      <td>2</td>\n",
       "      <td>Adelie</td>\n",
       "      <td>Torgersen</td>\n",
       "      <td>40.3</td>\n",
       "      <td>18.0</td>\n",
       "      <td>195.0</td>\n",
       "      <td>3250.0</td>\n",
       "      <td>Female</td>\n",
       "    </tr>\n",
       "  </tbody>\n",
       "</table>\n",
       "</div>"
      ],
      "text/plain": [
       "   Unnamed: 0 species     island  bill_length_mm  bill_depth_mm  \\\n",
       "0           0  Adelie  Torgersen            39.1           18.7   \n",
       "1           1  Adelie  Torgersen            39.5           17.4   \n",
       "2           2  Adelie  Torgersen            40.3           18.0   \n",
       "\n",
       "   flipper_length_mm  body_mass_g     sex  \n",
       "0              181.0       3750.0    Male  \n",
       "1              186.0       3800.0  Female  \n",
       "2              195.0       3250.0  Female  "
      ]
     },
     "execution_count": 4,
     "metadata": {},
     "output_type": "execute_result"
    }
   ],
   "source": [
    "df.head(3)"
   ]
  },
  {
   "cell_type": "code",
   "execution_count": 5,
   "id": "38bca7ec",
   "metadata": {},
   "outputs": [
    {
     "data": {
      "text/html": [
       "<div>\n",
       "<style scoped>\n",
       "    .dataframe tbody tr th:only-of-type {\n",
       "        vertical-align: middle;\n",
       "    }\n",
       "\n",
       "    .dataframe tbody tr th {\n",
       "        vertical-align: top;\n",
       "    }\n",
       "\n",
       "    .dataframe thead th {\n",
       "        text-align: right;\n",
       "    }\n",
       "</style>\n",
       "<table border=\"1\" class=\"dataframe\">\n",
       "  <thead>\n",
       "    <tr style=\"text-align: right;\">\n",
       "      <th></th>\n",
       "      <th>species</th>\n",
       "      <th>island</th>\n",
       "      <th>bill_length_mm</th>\n",
       "      <th>bill_depth_mm</th>\n",
       "      <th>flipper_length_mm</th>\n",
       "      <th>body_mass_g</th>\n",
       "      <th>sex</th>\n",
       "    </tr>\n",
       "  </thead>\n",
       "  <tbody>\n",
       "    <tr>\n",
       "      <th>0</th>\n",
       "      <td>Adelie</td>\n",
       "      <td>Torgersen</td>\n",
       "      <td>39.1</td>\n",
       "      <td>18.7</td>\n",
       "      <td>181.0</td>\n",
       "      <td>3750.0</td>\n",
       "      <td>Male</td>\n",
       "    </tr>\n",
       "    <tr>\n",
       "      <th>1</th>\n",
       "      <td>Adelie</td>\n",
       "      <td>Torgersen</td>\n",
       "      <td>39.5</td>\n",
       "      <td>17.4</td>\n",
       "      <td>186.0</td>\n",
       "      <td>3800.0</td>\n",
       "      <td>Female</td>\n",
       "    </tr>\n",
       "    <tr>\n",
       "      <th>2</th>\n",
       "      <td>Adelie</td>\n",
       "      <td>Torgersen</td>\n",
       "      <td>40.3</td>\n",
       "      <td>18.0</td>\n",
       "      <td>195.0</td>\n",
       "      <td>3250.0</td>\n",
       "      <td>Female</td>\n",
       "    </tr>\n",
       "    <tr>\n",
       "      <th>4</th>\n",
       "      <td>Adelie</td>\n",
       "      <td>Torgersen</td>\n",
       "      <td>36.7</td>\n",
       "      <td>19.3</td>\n",
       "      <td>193.0</td>\n",
       "      <td>3450.0</td>\n",
       "      <td>Female</td>\n",
       "    </tr>\n",
       "    <tr>\n",
       "      <th>5</th>\n",
       "      <td>Adelie</td>\n",
       "      <td>Torgersen</td>\n",
       "      <td>39.3</td>\n",
       "      <td>20.6</td>\n",
       "      <td>190.0</td>\n",
       "      <td>3650.0</td>\n",
       "      <td>Male</td>\n",
       "    </tr>\n",
       "  </tbody>\n",
       "</table>\n",
       "</div>"
      ],
      "text/plain": [
       "  species     island  bill_length_mm  bill_depth_mm  flipper_length_mm  \\\n",
       "0  Adelie  Torgersen            39.1           18.7              181.0   \n",
       "1  Adelie  Torgersen            39.5           17.4              186.0   \n",
       "2  Adelie  Torgersen            40.3           18.0              195.0   \n",
       "4  Adelie  Torgersen            36.7           19.3              193.0   \n",
       "5  Adelie  Torgersen            39.3           20.6              190.0   \n",
       "\n",
       "   body_mass_g     sex  \n",
       "0       3750.0    Male  \n",
       "1       3800.0  Female  \n",
       "2       3250.0  Female  \n",
       "4       3450.0  Female  \n",
       "5       3650.0    Male  "
      ]
     },
     "execution_count": 5,
     "metadata": {},
     "output_type": "execute_result"
    }
   ],
   "source": [
    "df.dropna(how = 'any', inplace = True)\n",
    "df.drop(\"Unnamed: 0\", axis = 1, inplace = True)\n",
    "df.head()"
   ]
  },
  {
   "cell_type": "markdown",
   "id": "a3d70800",
   "metadata": {},
   "source": [
    "To illustrate this point, we plot the bill_length versus bill_depth."
   ]
  },
  {
   "cell_type": "code",
   "execution_count": 14,
   "id": "e9ca827f",
   "metadata": {},
   "outputs": [],
   "source": [
    "penguin = df.species.unique().tolist()"
   ]
  },
  {
   "cell_type": "code",
   "execution_count": 15,
   "id": "317800e5",
   "metadata": {},
   "outputs": [
    {
     "data": {
      "image/png": "[encoded data removed]",
      "text/plain": [
       "<Figure size 720x576 with 1 Axes>"
      ]
     },
     "metadata": {},
     "output_type": "display_data"
    }
   ],
   "source": [
    "colors = [\"red\", \"magenta\", \"lightseagreen\"]\n",
    "\n",
    "fig, ax = plt.subplots(figsize = (10, 8))\n",
    "for species, color in zip(penguin, colors):\n",
    "    temp_df = df[df.species == species]\n",
    "    ax.scatter(temp_df.bill_length_mm,\n",
    "               temp_df.bill_depth_mm,\n",
    "               c = color,\n",
    "               label = species, \n",
    "               )\n",
    "    \n",
    "ax.set_xlabel(\"bill length [cm]\", fontsize = 15)\n",
    "ax.set_ylabel(\"bill depth [cm]\", fontsize = 15)\n",
    "ax.legend()\n",
    "plt.show()"
   ]
  },
  {
   "cell_type": "markdown",
   "id": "d296fb64",
   "metadata": {},
   "source": [
    "There are clearly three clusters in the figure, and their boundaries are almost clear. In the image above that most of the time, similar data points are close to each other. The KNN algorithm hinges on this assumption being true enough for the algorithm to be useful. Next, we try on KNN model to make classification."
   ]
  },
  {
   "cell_type": "markdown",
   "id": "b413908e",
   "metadata": {},
   "source": [
    "Before implementing this algorithm we creat a training set and testing set by running the following code."
   ]
  },
  {
   "cell_type": "code",
   "execution_count": 16,
   "id": "954dabbf",
   "metadata": {},
   "outputs": [],
   "source": [
    "X = df[[\"bill_length_mm\",\n",
    "          \"bill_depth_mm\"]].to_numpy()\n",
    "\n",
    "y = df[\"species\"].to_numpy()\n",
    "\n",
    "X_train, X_test, y_train, y_test = train_test_split(X,\n",
    "                                                    y, \n",
    "                                                    test_size=0.33, \n",
    "                                                    random_state=42)"
   ]
  },
  {
   "cell_type": "markdown",
   "id": "6cbf9f6d",
   "metadata": {},
   "source": [
    "### 2.2 KNN Model applied"
   ]
  },
  {
   "cell_type": "markdown",
   "id": "212958e6",
   "metadata": {},
   "source": [
    "For each point in X_test, we apply the KNN and make the predictions"
   ]
  },
  {
   "cell_type": "code",
   "execution_count": 25,
   "id": "6b29ef47",
   "metadata": {},
   "outputs": [],
   "source": [
    "predictions = [KNN_Predict(one_point, X_train, y_train, 5)\n",
    "              for one_point in X_test]\n",
    "#predictions"
   ]
  },
  {
   "cell_type": "markdown",
   "id": "7db017b0",
   "metadata": {},
   "source": [
    "### 2.3 Error Analysis"
   ]
  },
  {
   "cell_type": "markdown",
   "id": "e7ad8a72",
   "metadata": {},
   "source": [
    "We use the classfication error set above to show the accuracy"
   ]
  },
  {
   "cell_type": "code",
   "execution_count": 28,
   "id": "dd69868a",
   "metadata": {},
   "outputs": [
    {
     "name": "stdout",
     "output_type": "stream",
     "text": [
      "The classfication_error is: 0.055\n"
     ]
    }
   ],
   "source": [
    "classfication_error = np.sum(predictions != y_test)/len(y_test)\n",
    "print(f\"The classfication_error is: {round(classfication_error, 3)}\")"
   ]
  },
  {
   "cell_type": "markdown",
   "id": "9334fd72",
   "metadata": {},
   "source": [
    "The classfication error does not seems very good. We can try different values of k from 3 to 20 to see whether or not there are significant changes in classification error."
   ]
  },
  {
   "cell_type": "markdown",
   "id": "22e60ed0",
   "metadata": {},
   "source": [
    "### 2.4 Try Different Values in K"
   ]
  },
  {
   "cell_type": "code",
   "execution_count": 34,
   "id": "4db69dc6",
   "metadata": {},
   "outputs": [],
   "source": [
    "possible_k = [k for k in range(3, 21, 2)]\n",
    "errors = [classification_error(X_test,\n",
    "                               y_test,\n",
    "                               X_train,\n",
    "                               y_train, k) for k in possible_k]"
   ]
  },
  {
   "cell_type": "code",
   "execution_count": 35,
   "id": "1d0826d0",
   "metadata": {},
   "outputs": [
    {
     "data": {
      "image/png": "[encoded data removed]",
      "text/plain": [
       "<Figure size 576x432 with 1 Axes>"
      ]
     },
     "metadata": {},
     "output_type": "display_data"
    }
   ],
   "source": [
    "plt.figure(figsize = (8, 6))\n",
    "plt.plot(possible_k, errors, color = 'red', marker = \"o\")\n",
    "plt.xlabel('k', fontsize = 14)\n",
    "plt.ylabel('Classification Error', fontsize = 14)\n",
    "plt.xticks(possible_k)\n",
    "plt.show()\n"
   ]
  },
  {
   "cell_type": "markdown",
   "id": "9f6c0892",
   "metadata": {},
   "source": [
    "From the classfication error plot, we can see that when k increases, the classification error would decrease first. But, when k increases over some point, the classification error would begin to increase."
   ]
  },
  {
   "cell_type": "markdown",
   "id": "cd7ec222",
   "metadata": {},
   "source": [
    "### 3. Regression"
   ]
  },
  {
   "cell_type": "markdown",
   "id": "79a03fd3",
   "metadata": {},
   "source": [
    "Second, for regression problem, we train KNN model on California housing dataset "
   ]
  },
  {
   "cell_type": "markdown",
   "id": "293c4862",
   "metadata": {},
   "source": [
    "load the data"
   ]
  },
  {
   "cell_type": "code",
   "execution_count": 81,
   "id": "076c6577",
   "metadata": {},
   "outputs": [],
   "source": [
    "df2 = datasets.fetch_california_housing()"
   ]
  },
  {
   "cell_type": "code",
   "execution_count": 106,
   "id": "ec77dacb",
   "metadata": {},
   "outputs": [],
   "source": [
    "X = df2.data\n",
    "y = df2.target"
   ]
  },
  {
   "cell_type": "markdown",
   "id": "d8f0063b",
   "metadata": {},
   "source": [
    "We store the 8 features into X and target into y. Let us overview the features and target."
   ]
  },
  {
   "cell_type": "code",
   "execution_count": 113,
   "id": "39f1a466",
   "metadata": {},
   "outputs": [
    {
     "data": {
      "text/plain": [
       "(20640, 8)"
      ]
     },
     "execution_count": 113,
     "metadata": {},
     "output_type": "execute_result"
    }
   ],
   "source": [
    "X.shape"
   ]
  },
  {
   "cell_type": "markdown",
   "id": "327523f6",
   "metadata": {},
   "source": [
    "There are two many rows in this dataset, KNN would become significantly slow. we can extract subset."
   ]
  },
  {
   "cell_type": "code",
   "execution_count": 119,
   "id": "84b4efbf",
   "metadata": {},
   "outputs": [],
   "source": [
    "X = X[:1000,:]\n",
    "y = y[:1000]"
   ]
  },
  {
   "cell_type": "markdown",
   "id": "2a7b1006",
   "metadata": {},
   "source": [
    "Lets try our KNN model to predict prices using the first three features. We split data into training and test data sets, and choose $k$ be 5.\n",
    "\n",
    "We use mean square error(MSE) to evaluate the prediction."
   ]
  },
  {
   "cell_type": "code",
   "execution_count": 120,
   "id": "03202360",
   "metadata": {},
   "outputs": [
    {
     "name": "stdout",
     "output_type": "stream",
     "text": [
      "The prediction mean square error is: 0.534\n"
     ]
    }
   ],
   "source": [
    "X_train, X_test, y_train, y_test = train_test_split(X[:,0:2], y, test_size=0.2)\n",
    "\n",
    "predictions = [KNN_Predict(one_point, X_train, y_train, 5,regression=True)\n",
    "              for one_point in X_test]\n",
    "\n",
    "MSE = sum([(predictions[i]-y_test[i])**2 for i in range(len(y_test))])/len(y_test)\n",
    "print(f\"The prediction mean square error is: {round(MSE, 3)}\")"
   ]
  },
  {
   "cell_type": "markdown",
   "id": "30c90900",
   "metadata": {},
   "source": [
    "We can also look the determination coefficient"
   ]
  },
  {
   "cell_type": "code",
   "execution_count": 121,
   "id": "5ecbd341",
   "metadata": {},
   "outputs": [
    {
     "name": "stdout",
     "output_type": "stream",
     "text": [
      "The prediction determination coefficient (R^2) is: 0.308\n"
     ]
    }
   ],
   "source": [
    "from sklearn.metrics import r2_score\n",
    "\n",
    "R2 = r2_score(y_test, predictions)\n",
    "print(f\"The prediction determination coefficient (R^2) is: {round(R2, 3)}\")"
   ]
  },
  {
   "cell_type": "markdown",
   "id": "0cc983f6",
   "metadata": {},
   "source": [
    "We can see that the determination coefficient is not high enough. Then, we try all the features."
   ]
  },
  {
   "cell_type": "code",
   "execution_count": 122,
   "id": "f73b48d5",
   "metadata": {},
   "outputs": [
    {
     "name": "stdout",
     "output_type": "stream",
     "text": [
      "The prediction mean square error is: 1.393\n"
     ]
    }
   ],
   "source": [
    "X_train, X_test, y_train, y_test = train_test_split(X, y, test_size=0.2)\n",
    "\n",
    "predictions = [KNN_Predict(one_point, X_train, y_train, 5,regression=True)\n",
    "              for one_point in X_test]\n",
    "\n",
    "MSE = sum([(predictions[i]-y_test[i])**2 for i in range(len(y_test))])/len(y_test)\n",
    "print(f\"The prediction mean square error is: {round(MSE, 3)}\")"
   ]
  },
  {
   "cell_type": "code",
   "execution_count": 123,
   "id": "0581f08d",
   "metadata": {},
   "outputs": [
    {
     "name": "stdout",
     "output_type": "stream",
     "text": [
      "The prediction determination coefficient (R^2) is: -0.158\n"
     ]
    }
   ],
   "source": [
    "R2 = r2_score(y_test, predictions)\n",
    "print(f\"The prediction determination coefficient (R^2) is: {round(R2, 3)}\")"
   ]
  },
  {
   "cell_type": "markdown",
   "id": "832a53de",
   "metadata": {},
   "source": [
    "The R^2 is negative, which means the model is very bad."
   ]
  },
  {
   "cell_type": "markdown",
   "id": "e0307f58",
   "metadata": {},
   "source": [
    "We can try to scale our data to 0 mean and 1 variance to see if it can fix the problem."
   ]
  },
  {
   "cell_type": "code",
   "execution_count": 124,
   "id": "21fcad48",
   "metadata": {},
   "outputs": [],
   "source": [
    "scaler = StandardScaler()\n",
    "X_scaled = scaler.fit_transform(X)"
   ]
  },
  {
   "cell_type": "code",
   "execution_count": 125,
   "id": "67913f3c",
   "metadata": {},
   "outputs": [
    {
     "name": "stdout",
     "output_type": "stream",
     "text": [
      "The prediction mean square error is: 1.157\n"
     ]
    }
   ],
   "source": [
    "X_train, X_test, y_train, y_test = train_test_split(X, y, test_size=0.2)\n",
    "\n",
    "predictions = [KNN_Predict(one_point, X_train, y_train, 5,regression=True)\n",
    "              for one_point in X_test]\n",
    "\n",
    "MSE = sum([(predictions[i]-y_test[i])**2 for i in range(len(y_test))])/len(y_test)\n",
    "print(f\"The prediction mean square error is: {round(MSE, 3)}\")"
   ]
  },
  {
   "cell_type": "code",
   "execution_count": 126,
   "id": "d3cdef9e",
   "metadata": {},
   "outputs": [
    {
     "name": "stdout",
     "output_type": "stream",
     "text": [
      "The prediction determination coefficient (R^2) is: -0.456\n"
     ]
    }
   ],
   "source": [
    "R2 = r2_score(y_test, predictions)\n",
    "print(f\"The prediction determination coefficient (R^2) is: {round(R2, 3)}\")"
   ]
  },
  {
   "cell_type": "markdown",
   "id": "a22ea2cb",
   "metadata": {},
   "source": [
    "It seems that it does not always more features can bring more accuracy. We can make the loop to see how many features can bring the highest R^2?"
   ]
  },
  {
   "cell_type": "code",
   "execution_count": 131,
   "id": "7e5ea7ff",
   "metadata": {},
   "outputs": [
    {
     "name": "stdout",
     "output_type": "stream",
     "text": [
      "The prediction mean square error is: 0.276\n"
     ]
    }
   ],
   "source": [
    "X_train, X_test, y_train, y_test = train_test_split(X[:,0:4], y, test_size=0.2)\n",
    "\n",
    "predictions = [KNN_Predict(one_point, X_train, y_train, 5,regression=True)\n",
    "              for one_point in X_test]\n",
    "\n",
    "MSE = sum([(predictions[i]-y_test[i])**2 for i in range(len(y_test))])/len(y_test)\n",
    "print(f\"The prediction mean square error is: {round(MSE, 3)}\")\n"
   ]
  },
  {
   "cell_type": "code",
   "execution_count": 132,
   "id": "d5be1fc4",
   "metadata": {},
   "outputs": [
    {
     "name": "stdout",
     "output_type": "stream",
     "text": [
      "The prediction determination coefficient (R^2) is: 0.732\n"
     ]
    }
   ],
   "source": [
    "R2 = r2_score(y_test, predictions)\n",
    "print(f\"The prediction determination coefficient (R^2) is: {round(R2, 3)}\")"
   ]
  },
  {
   "cell_type": "code",
   "execution_count": 138,
   "id": "3eb4895c",
   "metadata": {},
   "outputs": [],
   "source": [
    "possible_i = [i for i in range(1,X.shape[1]+1)]\n",
    "MSE_ = []\n",
    "Rsquared = []\n",
    "for j in possible_i:\n",
    "    \n",
    "    X_train, X_test, y_train, y_test = train_test_split(X[:,0:j], y, test_size=0.2)\n",
    "\n",
    "    predictions = [KNN_Predict(one_point, X_train, y_train, 5,regression=True)\n",
    "              for one_point in X_test]\n",
    "\n",
    "    MSE = sum([(predictions[i]-y_test[i])**2 for i in range(len(y_test))])/len(y_test)\n",
    "    R2 = r2_score(y_test, predictions)\n",
    "    MSE_.append(MSE)\n",
    "    Rsquared.append(R2)\n",
    " "
   ]
  },
  {
   "cell_type": "code",
   "execution_count": 145,
   "id": "6ada96bd",
   "metadata": {},
   "outputs": [
    {
     "data": {
      "image/png": "[encoded data removed]",
      "text/plain": [
       "<Figure size 576x432 with 1 Axes>"
      ]
     },
     "metadata": {},
     "output_type": "display_data"
    }
   ],
   "source": [
    "plt.figure(figsize = (8,6))\n",
    "plt.plot(possible_i, MSE_, color = 'red', marker = 'o', label='MSE')\n",
    "plt.plot(possible_i, Rsquared, color = 'blue', marker = 'o',label = 'Rsquared')\n",
    "plt.xlabel('features')\n",
    "plt.legend()\n",
    "plt.show()"
   ]
  },
  {
   "cell_type": "markdown",
   "id": "608901b9",
   "metadata": {},
   "source": [
    "We can see that when features increase, the accuracy becomes lower. It shows that when faced with multi variables dataset, we cannot use KNN directly. we need first filter the variables."
   ]
  }
 ],
 "metadata": {
  "kernelspec": {
   "display_name": "Python 3",
   "language": "python",
   "name": "python3"
  },
  "language_info": {
   "codemirror_mode": {
    "name": "ipython",
    "version": 3
   },
   "file_extension": ".py",
   "mimetype": "text/x-python",
   "name": "python",
   "nbconvert_exporter": "python",
   "pygments_lexer": "ipython3",
   "version": "3.8.8"
  }
 },
 "nbformat": 4,
 "nbformat_minor": 5
}

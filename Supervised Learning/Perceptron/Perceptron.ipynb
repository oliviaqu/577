{
 "cells": [
  {
   "cell_type": "markdown",
   "id": "c1b7a586",
   "metadata": {},
   "source": [
    "# Perceptron \n",
    "\n"
   ]
  },
  {
   "cell_type": "markdown",
   "id": "5df4eca1",
   "metadata": {},
   "source": [
    "We will implement and train this model on the palmerpenguins dataset, and get started by running the following code in the cell below."
   ]
  },
  {
   "cell_type": "code",
   "execution_count": 18,
   "id": "3456f823",
   "metadata": {},
   "outputs": [],
   "source": [
    "import matplotlib.pyplot as plt\n",
    "import numpy as np\n",
    "import pandas as pd\n",
    "import seaborn as sns\n",
    "\n",
    "# Import a nice function for plotting decision boudaries\n",
    "from mlxtend.plotting import plot_decision_regions\n",
    "\n",
    "# Set the Seaborn theme\n",
    "sns.set_theme()\n",
    "\n",
    "# Read the palmerpenguins dataset into a pandas DataFrame object\n",
    "df = pd.read_csv(\"palmer_penguins.csv\")"
   ]
  },
  {
   "cell_type": "markdown",
   "id": "9cb41a9c",
   "metadata": {},
   "source": [
    "The Perceptron is used on binary classification problems. Thus, we need to choose two of the three species of penguins to implement and train the perceptron on. For our purposes we will focus on \"Adelie\" and \"Chinstrap\" penguin species. The data for these two species are contained in the first 219 rows of data in df. Try running the following code in the cell below."
   ]
  },
  {
   "cell_type": "markdown",
   "id": "ce09e271",
   "metadata": {},
   "source": [
    "## Data preprocessing"
   ]
  },
  {
   "cell_type": "code",
   "execution_count": 19,
   "id": "f43b17e9",
   "metadata": {},
   "outputs": [
    {
     "data": {
      "text/html": [
       "<div>\n",
       "<style scoped>\n",
       "    .dataframe tbody tr th:only-of-type {\n",
       "        vertical-align: middle;\n",
       "    }\n",
       "\n",
       "    .dataframe tbody tr th {\n",
       "        vertical-align: top;\n",
       "    }\n",
       "\n",
       "    .dataframe thead th {\n",
       "        text-align: right;\n",
       "    }\n",
       "</style>\n",
       "<table border=\"1\" class=\"dataframe\">\n",
       "  <thead>\n",
       "    <tr style=\"text-align: right;\">\n",
       "      <th></th>\n",
       "      <th>Unnamed: 0</th>\n",
       "      <th>species</th>\n",
       "      <th>island</th>\n",
       "      <th>bill_length_mm</th>\n",
       "      <th>bill_depth_mm</th>\n",
       "      <th>flipper_length_mm</th>\n",
       "      <th>body_mass_g</th>\n",
       "      <th>sex</th>\n",
       "    </tr>\n",
       "  </thead>\n",
       "  <tbody>\n",
       "    <tr>\n",
       "      <th>0</th>\n",
       "      <td>0</td>\n",
       "      <td>Adelie</td>\n",
       "      <td>Torgersen</td>\n",
       "      <td>39.1</td>\n",
       "      <td>18.7</td>\n",
       "      <td>181.0</td>\n",
       "      <td>3750.0</td>\n",
       "      <td>Male</td>\n",
       "    </tr>\n",
       "    <tr>\n",
       "      <th>1</th>\n",
       "      <td>1</td>\n",
       "      <td>Adelie</td>\n",
       "      <td>Torgersen</td>\n",
       "      <td>39.5</td>\n",
       "      <td>17.4</td>\n",
       "      <td>186.0</td>\n",
       "      <td>3800.0</td>\n",
       "      <td>Female</td>\n",
       "    </tr>\n",
       "    <tr>\n",
       "      <th>2</th>\n",
       "      <td>2</td>\n",
       "      <td>Adelie</td>\n",
       "      <td>Torgersen</td>\n",
       "      <td>40.3</td>\n",
       "      <td>18.0</td>\n",
       "      <td>195.0</td>\n",
       "      <td>3250.0</td>\n",
       "      <td>Female</td>\n",
       "    </tr>\n",
       "    <tr>\n",
       "      <th>3</th>\n",
       "      <td>3</td>\n",
       "      <td>Adelie</td>\n",
       "      <td>Torgersen</td>\n",
       "      <td>NaN</td>\n",
       "      <td>NaN</td>\n",
       "      <td>NaN</td>\n",
       "      <td>NaN</td>\n",
       "      <td>NaN</td>\n",
       "    </tr>\n",
       "    <tr>\n",
       "      <th>4</th>\n",
       "      <td>4</td>\n",
       "      <td>Adelie</td>\n",
       "      <td>Torgersen</td>\n",
       "      <td>36.7</td>\n",
       "      <td>19.3</td>\n",
       "      <td>193.0</td>\n",
       "      <td>3450.0</td>\n",
       "      <td>Female</td>\n",
       "    </tr>\n",
       "  </tbody>\n",
       "</table>\n",
       "</div>"
      ],
      "text/plain": [
       "   Unnamed: 0 species     island  bill_length_mm  bill_depth_mm  \\\n",
       "0           0  Adelie  Torgersen            39.1           18.7   \n",
       "1           1  Adelie  Torgersen            39.5           17.4   \n",
       "2           2  Adelie  Torgersen            40.3           18.0   \n",
       "3           3  Adelie  Torgersen             NaN            NaN   \n",
       "4           4  Adelie  Torgersen            36.7           19.3   \n",
       "\n",
       "   flipper_length_mm  body_mass_g     sex  \n",
       "0              181.0       3750.0    Male  \n",
       "1              186.0       3800.0  Female  \n",
       "2              195.0       3250.0  Female  \n",
       "3                NaN          NaN     NaN  \n",
       "4              193.0       3450.0  Female  "
      ]
     },
     "execution_count": 19,
     "metadata": {},
     "output_type": "execute_result"
    }
   ],
   "source": [
    "df = df.iloc[:220]\n",
    "df.head()"
   ]
  },
  {
   "cell_type": "markdown",
   "id": "c67d7349",
   "metadata": {},
   "source": [
    "We use the head method to know the dataset. Rows with NAN should be dropped at first. "
   ]
  },
  {
   "cell_type": "code",
   "execution_count": 20,
   "id": "e683bf82",
   "metadata": {},
   "outputs": [],
   "source": [
    "df = df.dropna(how = \"any\")\n",
    "df.drop(\"Unnamed: 0\", axis = 1, inplace = True)"
   ]
  },
  {
   "cell_type": "code",
   "execution_count": 21,
   "id": "173db55d",
   "metadata": {},
   "outputs": [
    {
     "data": {
      "text/html": [
       "<div>\n",
       "<style scoped>\n",
       "    .dataframe tbody tr th:only-of-type {\n",
       "        vertical-align: middle;\n",
       "    }\n",
       "\n",
       "    .dataframe tbody tr th {\n",
       "        vertical-align: top;\n",
       "    }\n",
       "\n",
       "    .dataframe thead th {\n",
       "        text-align: right;\n",
       "    }\n",
       "</style>\n",
       "<table border=\"1\" class=\"dataframe\">\n",
       "  <thead>\n",
       "    <tr style=\"text-align: right;\">\n",
       "      <th></th>\n",
       "      <th>species</th>\n",
       "      <th>island</th>\n",
       "      <th>bill_length_mm</th>\n",
       "      <th>bill_depth_mm</th>\n",
       "      <th>flipper_length_mm</th>\n",
       "      <th>body_mass_g</th>\n",
       "      <th>sex</th>\n",
       "    </tr>\n",
       "  </thead>\n",
       "  <tbody>\n",
       "    <tr>\n",
       "      <th>0</th>\n",
       "      <td>Adelie</td>\n",
       "      <td>Torgersen</td>\n",
       "      <td>39.1</td>\n",
       "      <td>18.7</td>\n",
       "      <td>181.0</td>\n",
       "      <td>3750.0</td>\n",
       "      <td>Male</td>\n",
       "    </tr>\n",
       "    <tr>\n",
       "      <th>1</th>\n",
       "      <td>Adelie</td>\n",
       "      <td>Torgersen</td>\n",
       "      <td>39.5</td>\n",
       "      <td>17.4</td>\n",
       "      <td>186.0</td>\n",
       "      <td>3800.0</td>\n",
       "      <td>Female</td>\n",
       "    </tr>\n",
       "    <tr>\n",
       "      <th>2</th>\n",
       "      <td>Adelie</td>\n",
       "      <td>Torgersen</td>\n",
       "      <td>40.3</td>\n",
       "      <td>18.0</td>\n",
       "      <td>195.0</td>\n",
       "      <td>3250.0</td>\n",
       "      <td>Female</td>\n",
       "    </tr>\n",
       "    <tr>\n",
       "      <th>4</th>\n",
       "      <td>Adelie</td>\n",
       "      <td>Torgersen</td>\n",
       "      <td>36.7</td>\n",
       "      <td>19.3</td>\n",
       "      <td>193.0</td>\n",
       "      <td>3450.0</td>\n",
       "      <td>Female</td>\n",
       "    </tr>\n",
       "    <tr>\n",
       "      <th>5</th>\n",
       "      <td>Adelie</td>\n",
       "      <td>Torgersen</td>\n",
       "      <td>39.3</td>\n",
       "      <td>20.6</td>\n",
       "      <td>190.0</td>\n",
       "      <td>3650.0</td>\n",
       "      <td>Male</td>\n",
       "    </tr>\n",
       "    <tr>\n",
       "      <th>...</th>\n",
       "      <td>...</td>\n",
       "      <td>...</td>\n",
       "      <td>...</td>\n",
       "      <td>...</td>\n",
       "      <td>...</td>\n",
       "      <td>...</td>\n",
       "      <td>...</td>\n",
       "    </tr>\n",
       "    <tr>\n",
       "      <th>215</th>\n",
       "      <td>Chinstrap</td>\n",
       "      <td>Dream</td>\n",
       "      <td>55.8</td>\n",
       "      <td>19.8</td>\n",
       "      <td>207.0</td>\n",
       "      <td>4000.0</td>\n",
       "      <td>Male</td>\n",
       "    </tr>\n",
       "    <tr>\n",
       "      <th>216</th>\n",
       "      <td>Chinstrap</td>\n",
       "      <td>Dream</td>\n",
       "      <td>43.5</td>\n",
       "      <td>18.1</td>\n",
       "      <td>202.0</td>\n",
       "      <td>3400.0</td>\n",
       "      <td>Female</td>\n",
       "    </tr>\n",
       "    <tr>\n",
       "      <th>217</th>\n",
       "      <td>Chinstrap</td>\n",
       "      <td>Dream</td>\n",
       "      <td>49.6</td>\n",
       "      <td>18.2</td>\n",
       "      <td>193.0</td>\n",
       "      <td>3775.0</td>\n",
       "      <td>Male</td>\n",
       "    </tr>\n",
       "    <tr>\n",
       "      <th>218</th>\n",
       "      <td>Chinstrap</td>\n",
       "      <td>Dream</td>\n",
       "      <td>50.8</td>\n",
       "      <td>19.0</td>\n",
       "      <td>210.0</td>\n",
       "      <td>4100.0</td>\n",
       "      <td>Male</td>\n",
       "    </tr>\n",
       "    <tr>\n",
       "      <th>219</th>\n",
       "      <td>Chinstrap</td>\n",
       "      <td>Dream</td>\n",
       "      <td>50.2</td>\n",
       "      <td>18.7</td>\n",
       "      <td>198.0</td>\n",
       "      <td>3775.0</td>\n",
       "      <td>Female</td>\n",
       "    </tr>\n",
       "  </tbody>\n",
       "</table>\n",
       "<p>214 rows × 7 columns</p>\n",
       "</div>"
      ],
      "text/plain": [
       "       species     island  bill_length_mm  bill_depth_mm  flipper_length_mm  \\\n",
       "0       Adelie  Torgersen            39.1           18.7              181.0   \n",
       "1       Adelie  Torgersen            39.5           17.4              186.0   \n",
       "2       Adelie  Torgersen            40.3           18.0              195.0   \n",
       "4       Adelie  Torgersen            36.7           19.3              193.0   \n",
       "5       Adelie  Torgersen            39.3           20.6              190.0   \n",
       "..         ...        ...             ...            ...                ...   \n",
       "215  Chinstrap      Dream            55.8           19.8              207.0   \n",
       "216  Chinstrap      Dream            43.5           18.1              202.0   \n",
       "217  Chinstrap      Dream            49.6           18.2              193.0   \n",
       "218  Chinstrap      Dream            50.8           19.0              210.0   \n",
       "219  Chinstrap      Dream            50.2           18.7              198.0   \n",
       "\n",
       "     body_mass_g     sex  \n",
       "0         3750.0    Male  \n",
       "1         3800.0  Female  \n",
       "2         3250.0  Female  \n",
       "4         3450.0  Female  \n",
       "5         3650.0    Male  \n",
       "..           ...     ...  \n",
       "215       4000.0    Male  \n",
       "216       3400.0  Female  \n",
       "217       3775.0    Male  \n",
       "218       4100.0    Male  \n",
       "219       3775.0  Female  \n",
       "\n",
       "[214 rows x 7 columns]"
      ]
     },
     "execution_count": 21,
     "metadata": {},
     "output_type": "execute_result"
    }
   ],
   "source": [
    "df"
   ]
  },
  {
   "cell_type": "markdown",
   "id": "41bee2e5",
   "metadata": {},
   "source": [
    "The perceptron can take in any number of feature measurments, but for simplicity we focus our attention on just two feature measurements, namely \"bill_length\" and \"bill_depth\". Moreover, we need to also convert the string names associated with each species to numerical values; for example, map \"Adelie\" species to -1 and \"Chinstrap\" species to 1. The following code preproccesses our data into these desired formats."
   ]
  },
  {
   "cell_type": "code",
   "execution_count": 22,
   "id": "024bff64",
   "metadata": {},
   "outputs": [],
   "source": [
    "# Store the desired species values in the numpy array y\n",
    "y = df.species.values\n",
    "# Convert each entry of y with setosa to -1 and otherwise 1\n",
    "y = np.where(y == 'Adelie', -1, 1)\n",
    "\n",
    "# Store the desired feature measurements in the matrix X\n",
    "X = df[[\"bill_length_mm\", \"bill_depth_mm\"]].values"
   ]
  },
  {
   "cell_type": "markdown",
   "id": "5faef23e",
   "metadata": {},
   "source": [
    "We can preview the y and X at first"
   ]
  },
  {
   "cell_type": "code",
   "execution_count": 21,
   "id": "30d48545",
   "metadata": {
    "collapsed": true
   },
   "outputs": [
    {
     "data": {
      "text/plain": [
       "array([[39.1, 18.7],\n",
       "       [39.5, 17.4],\n",
       "       [40.3, 18. ],\n",
       "       [36.7, 19.3],\n",
       "       [39.3, 20.6],\n",
       "       [38.9, 17.8],\n",
       "       [39.2, 19.6],\n",
       "       [41.1, 17.6],\n",
       "       [38.6, 21.2],\n",
       "       [34.6, 21.1],\n",
       "       [36.6, 17.8],\n",
       "       [38.7, 19. ],\n",
       "       [42.5, 20.7],\n",
       "       [34.4, 18.4],\n",
       "       [46. , 21.5],\n",
       "       [37.8, 18.3],\n",
       "       [37.7, 18.7],\n",
       "       [35.9, 19.2],\n",
       "       [38.2, 18.1],\n",
       "       [38.8, 17.2],\n",
       "       [35.3, 18.9],\n",
       "       [40.6, 18.6],\n",
       "       [40.5, 17.9],\n",
       "       [37.9, 18.6],\n",
       "       [40.5, 18.9],\n",
       "       [39.5, 16.7],\n",
       "       [37.2, 18.1],\n",
       "       [39.5, 17.8],\n",
       "       [40.9, 18.9],\n",
       "       [36.4, 17. ],\n",
       "       [39.2, 21.1],\n",
       "       [38.8, 20. ],\n",
       "       [42.2, 18.5],\n",
       "       [37.6, 19.3],\n",
       "       [39.8, 19.1],\n",
       "       [36.5, 18. ],\n",
       "       [40.8, 18.4],\n",
       "       [36. , 18.5],\n",
       "       [44.1, 19.7],\n",
       "       [37. , 16.9],\n",
       "       [39.6, 18.8],\n",
       "       [41.1, 19. ],\n",
       "       [36. , 17.9],\n",
       "       [42.3, 21.2],\n",
       "       [39.6, 17.7],\n",
       "       [40.1, 18.9],\n",
       "       [35. , 17.9],\n",
       "       [42. , 19.5],\n",
       "       [34.5, 18.1],\n",
       "       [41.4, 18.6],\n",
       "       [39. , 17.5],\n",
       "       [40.6, 18.8],\n",
       "       [36.5, 16.6],\n",
       "       [37.6, 19.1],\n",
       "       [35.7, 16.9],\n",
       "       [41.3, 21.1],\n",
       "       [37.6, 17. ],\n",
       "       [41.1, 18.2],\n",
       "       [36.4, 17.1],\n",
       "       [41.6, 18. ],\n",
       "       [35.5, 16.2],\n",
       "       [41.1, 19.1],\n",
       "       [35.9, 16.6],\n",
       "       [41.8, 19.4],\n",
       "       [33.5, 19. ],\n",
       "       [39.7, 18.4],\n",
       "       [39.6, 17.2],\n",
       "       [45.8, 18.9],\n",
       "       [35.5, 17.5],\n",
       "       [42.8, 18.5],\n",
       "       [40.9, 16.8],\n",
       "       [37.2, 19.4],\n",
       "       [36.2, 16.1],\n",
       "       [42.1, 19.1],\n",
       "       [34.6, 17.2],\n",
       "       [42.9, 17.6],\n",
       "       [36.7, 18.8],\n",
       "       [35.1, 19.4],\n",
       "       [37.3, 17.8],\n",
       "       [41.3, 20.3],\n",
       "       [36.3, 19.5],\n",
       "       [36.9, 18.6],\n",
       "       [38.3, 19.2],\n",
       "       [38.9, 18.8],\n",
       "       [35.7, 18. ],\n",
       "       [41.1, 18.1],\n",
       "       [34. , 17.1],\n",
       "       [39.6, 18.1],\n",
       "       [36.2, 17.3],\n",
       "       [40.8, 18.9],\n",
       "       [38.1, 18.6],\n",
       "       [40.3, 18.5],\n",
       "       [33.1, 16.1],\n",
       "       [43.2, 18.5],\n",
       "       [35. , 17.9],\n",
       "       [41. , 20. ],\n",
       "       [37.7, 16. ],\n",
       "       [37.8, 20. ],\n",
       "       [37.9, 18.6],\n",
       "       [39.7, 18.9],\n",
       "       [38.6, 17.2],\n",
       "       [38.2, 20. ],\n",
       "       [38.1, 17. ],\n",
       "       [43.2, 19. ],\n",
       "       [38.1, 16.5],\n",
       "       [45.6, 20.3],\n",
       "       [39.7, 17.7],\n",
       "       [42.2, 19.5],\n",
       "       [39.6, 20.7],\n",
       "       [42.7, 18.3],\n",
       "       [38.6, 17. ],\n",
       "       [37.3, 20.5],\n",
       "       [35.7, 17. ],\n",
       "       [41.1, 18.6],\n",
       "       [36.2, 17.2],\n",
       "       [37.7, 19.8],\n",
       "       [40.2, 17. ],\n",
       "       [41.4, 18.5],\n",
       "       [35.2, 15.9],\n",
       "       [40.6, 19. ],\n",
       "       [38.8, 17.6],\n",
       "       [41.5, 18.3],\n",
       "       [39. , 17.1],\n",
       "       [44.1, 18. ],\n",
       "       [38.5, 17.9],\n",
       "       [43.1, 19.2],\n",
       "       [36.8, 18.5],\n",
       "       [37.5, 18.5],\n",
       "       [38.1, 17.6],\n",
       "       [41.1, 17.5],\n",
       "       [35.6, 17.5],\n",
       "       [40.2, 20.1],\n",
       "       [37. , 16.5],\n",
       "       [39.7, 17.9],\n",
       "       [40.2, 17.1],\n",
       "       [40.6, 17.2],\n",
       "       [32.1, 15.5],\n",
       "       [40.7, 17. ],\n",
       "       [37.3, 16.8],\n",
       "       [39. , 18.7],\n",
       "       [39.2, 18.6],\n",
       "       [36.6, 18.4],\n",
       "       [36. , 17.8],\n",
       "       [37.8, 18.1],\n",
       "       [36. , 17.1],\n",
       "       [41.5, 18.5],\n",
       "       [46.5, 17.9],\n",
       "       [50. , 19.5],\n",
       "       [51.3, 19.2],\n",
       "       [45.4, 18.7],\n",
       "       [52.7, 19.8],\n",
       "       [45.2, 17.8],\n",
       "       [46.1, 18.2],\n",
       "       [51.3, 18.2],\n",
       "       [46. , 18.9],\n",
       "       [51.3, 19.9],\n",
       "       [46.6, 17.8],\n",
       "       [51.7, 20.3],\n",
       "       [47. , 17.3],\n",
       "       [52. , 18.1],\n",
       "       [45.9, 17.1],\n",
       "       [50.5, 19.6],\n",
       "       [50.3, 20. ],\n",
       "       [58. , 17.8],\n",
       "       [46.4, 18.6],\n",
       "       [49.2, 18.2],\n",
       "       [42.4, 17.3],\n",
       "       [48.5, 17.5],\n",
       "       [43.2, 16.6],\n",
       "       [50.6, 19.4],\n",
       "       [46.7, 17.9],\n",
       "       [52. , 19. ],\n",
       "       [50.5, 18.4],\n",
       "       [49.5, 19. ],\n",
       "       [46.4, 17.8],\n",
       "       [52.8, 20. ],\n",
       "       [40.9, 16.6],\n",
       "       [54.2, 20.8],\n",
       "       [42.5, 16.7],\n",
       "       [51. , 18.8],\n",
       "       [49.7, 18.6],\n",
       "       [47.5, 16.8],\n",
       "       [47.6, 18.3],\n",
       "       [52. , 20.7],\n",
       "       [46.9, 16.6],\n",
       "       [53.5, 19.9],\n",
       "       [49. , 19.5],\n",
       "       [46.2, 17.5],\n",
       "       [50.9, 19.1],\n",
       "       [45.5, 17. ],\n",
       "       [50.9, 17.9],\n",
       "       [50.8, 18.5],\n",
       "       [50.1, 17.9],\n",
       "       [49. , 19.6],\n",
       "       [51.5, 18.7],\n",
       "       [49.8, 17.3],\n",
       "       [48.1, 16.4],\n",
       "       [51.4, 19. ],\n",
       "       [45.7, 17.3],\n",
       "       [50.7, 19.7],\n",
       "       [42.5, 17.3],\n",
       "       [52.2, 18.8],\n",
       "       [45.2, 16.6],\n",
       "       [49.3, 19.9],\n",
       "       [50.2, 18.8],\n",
       "       [45.6, 19.4],\n",
       "       [51.9, 19.5],\n",
       "       [46.8, 16.5],\n",
       "       [45.7, 17. ],\n",
       "       [55.8, 19.8],\n",
       "       [43.5, 18.1],\n",
       "       [49.6, 18.2],\n",
       "       [50.8, 19. ],\n",
       "       [50.2, 18.7]])"
      ]
     },
     "execution_count": 21,
     "metadata": {},
     "output_type": "execute_result"
    }
   ],
   "source": [
    "#y\n",
    "#X"
   ]
  },
  {
   "cell_type": "markdown",
   "id": "eb9d5b44",
   "metadata": {},
   "source": [
    "Before using Perceptron to get the decision region, we can first visualize these two species based on bill_length and bill_depth"
   ]
  },
  {
   "cell_type": "code",
   "execution_count": 23,
   "id": "219dc2f5",
   "metadata": {
    "scrolled": true
   },
   "outputs": [
    {
     "data": {
      "image/png": "[encoded data removed]",
      "text/plain": [
       "<Figure size 432x288 with 1 Axes>"
      ]
     },
     "metadata": {},
     "output_type": "display_data"
    }
   ],
   "source": [
    "# Distinguish between positive and negative samples\n",
    "posi_x = df[df[\"species\"] == \"Adelie\"][[\"bill_length_mm\", \"bill_depth_mm\"]].values\n",
    "nega_x = df[df[\"species\"] == \"Chinstrap\"][[\"bill_length_mm\", \"bill_depth_mm\"]].values\n",
    "\n",
    "plt.figure(figsize = (6,4))\n",
    "plt.scatter(posi_x[ ...,0],posi_x[ ...,1],\n",
    "        marker = 'o')\n",
    "plt.scatter(nega_x[ ...,0],nega_x[ ...,1],\n",
    "        marker = '+')\n",
    "plt.xlabel(\"bill_length_mm\", fontsize = 15)\n",
    "plt.ylabel(\"bill_depth_mm\", fontsize = 15)\n",
    "plt.show()"
   ]
  },
  {
   "cell_type": "markdown",
   "id": "80b7a263",
   "metadata": {},
   "source": [
    "From the plot above, there is clear distinction between Adelie species penguin and Chinstrap species penguin. Then, we can use the perceptron to obtain the decision region."
   ]
  },
  {
   "cell_type": "code",
   "execution_count": 24,
   "id": "5d42467c",
   "metadata": {},
   "outputs": [],
   "source": [
    "from sklearn.model_selection import train_test_split\n",
    "\n",
    "X_train, X_test, y_train, y_test = train_test_split(X, \n",
    "                                                   y,\n",
    "                                                   test_size = 0.4,\n",
    "                                                   random_state = 3)"
   ]
  },
  {
   "cell_type": "markdown",
   "id": "ecbd4cf8",
   "metadata": {},
   "source": [
    "## Algorithm application"
   ]
  },
  {
   "cell_type": "markdown",
   "id": "071eecb8",
   "metadata": {},
   "source": [
    "Thus, we next write a custom python class that stores a scaling value for the cost function, the number of epochs when training, the weights (and bias), and the errors incured during training on a given instance. Moreover, this python class will also contain a training method, a input method, and a predict method. Please run the following code in the cell below."
   ]
  },
  {
   "cell_type": "code",
   "execution_count": 7,
   "id": "1bc1026a",
   "metadata": {},
   "outputs": [],
   "source": [
    "class Perceptron(object):\n",
    "    def __init__(self, eta = .5, epochs = 50):\n",
    "        self.eta = eta\n",
    "        self.epochs = epochs\n",
    "        \n",
    "    def train(self, X, y):\n",
    "        self.w_ = np.random.rand(1 + X.shape[1])\n",
    "        \n",
    "        self.errors_ = []\n",
    "        \n",
    "        for _ in range(self.epochs):\n",
    "            errors = 0\n",
    "            for xi, target in zip(X, y):\n",
    "                update = self.eta * (self.predict(xi) - target)\n",
    "                self.w_[:-1] -= update*xi\n",
    "                self.w_[-1] -= update\n",
    "                errors += int(update != 0)\n",
    "            if errors == 0:\n",
    "                return self\n",
    "            else:\n",
    "                self.errors_.append(errors)\n",
    "            \n",
    "        return self\n",
    "    \n",
    "    def net_input(self, X):\n",
    "        return np.dot(X, self.w_[:-1]) + self.w_[-1]\n",
    "    \n",
    "    def predict(self, X):\n",
    "        return np.where(self.net_input(X) >= 0.0, 1, -1)\n",
    "        "
   ]
  },
  {
   "cell_type": "markdown",
   "id": "2604a350",
   "metadata": {},
   "source": [
    "Next we can instantiate an instance of the Perceptron class and also train this instance over 2500 epochs by running the following code in the cell below."
   ]
  },
  {
   "cell_type": "code",
   "execution_count": 25,
   "id": "7ddef983",
   "metadata": {},
   "outputs": [
    {
     "data": {
      "text/plain": [
       "<__main__.Perceptron at 0x11d7f7cd0>"
      ]
     },
     "execution_count": 25,
     "metadata": {},
     "output_type": "execute_result"
    }
   ],
   "source": [
    "# Instantiate one instance of the Perceptron class\n",
    "percep = Perceptron(epochs = 2500)\n",
    "\n",
    "# Call the train method to train the weights and bias of the given instance\n",
    "percep.train(X_train, y_train)"
   ]
  },
  {
   "cell_type": "markdown",
   "id": "ad0f552b",
   "metadata": {},
   "source": [
    "After training has finished we can call the Perceptron class predict method to view its current predictions given input features. We can quickly view these predictions on the entries in X by running the following code in the cell below."
   ]
  },
  {
   "cell_type": "code",
   "execution_count": 26,
   "id": "7afdb270",
   "metadata": {},
   "outputs": [
    {
     "name": "stdout",
     "output_type": "stream",
     "text": [
      "[ True  True  True  True  True  True  True  True  True  True  True False\n",
      "  True  True  True  True  True False  True  True  True  True  True  True\n",
      "  True  True  True  True  True  True  True  True  True  True  True  True\n",
      "  True  True  True  True  True  True  True  True  True  True  True  True\n",
      "  True  True  True False  True  True  True  True  True False  True  True\n",
      "  True  True  True  True  True  True  True  True  True  True  True  True\n",
      "  True  True  True  True  True  True  True  True  True  True  True  True\n",
      "  True  True]\n"
     ]
    }
   ],
   "source": [
    "# Predict labels on the features in X_test\n",
    "y_hat = percep.predict(X_test)\n",
    "\n",
    "# Compare y_hat and y\n",
    "print(y_test == y_hat)"
   ]
  },
  {
   "cell_type": "markdown",
   "id": "2d20985e",
   "metadata": {},
   "source": [
    "As we can see from the output of the code above, the predicted values have matched the true values on the given data. We can visualize this in the Euclidian plane by calling the plot_decision_regions function imported at the top of this notebook. This function will scatter the penguins data in the plane and also show the regions of space where a given point will be classified either -1 or 1. It super easy to use and I'm glad I found it! Try running the following code in the cell below."
   ]
  },
  {
   "cell_type": "code",
   "execution_count": 28,
   "id": "d42c5d54",
   "metadata": {},
   "outputs": [
    {
     "data": {
      "image/png": "[encoded data removed]",
      "text/plain": [
       "<Figure size 720x576 with 1 Axes>"
      ]
     },
     "metadata": {},
     "output_type": "display_data"
    }
   ],
   "source": [
    "plt.figure(figsize = (10, 8))\n",
    "plot_decision_regions(X_train, y_train, clf = percep)\n",
    "plt.title(\"My First Perceptron\", fontsize = 18)\n",
    "plt.xlabel(\"bill length [mm]\", fontsize = 15)\n",
    "plt.ylabel(\"bill depth [mm]\", fontsize = 15)\n",
    "plt.show()"
   ]
  },
  {
   "cell_type": "markdown",
   "id": "86de7e3e",
   "metadata": {},
   "source": [
    "## Error Analysis"
   ]
  },
  {
   "cell_type": "markdown",
   "id": "ae1f7f5f",
   "metadata": {},
   "source": [
    "As you can see from the output of the code above, we have found a nice linear seperator which has classified our data. But how long did our perceptron model train for? Luckily, when we defined our Perceptron class we stored the error incured by the model at each iteration of an epoch in the errors_ attribute. We can view these errors over each epoch by running the following code in the cell below."
   ]
  },
  {
   "cell_type": "code",
   "execution_count": 29,
   "id": "a2a42973",
   "metadata": {},
   "outputs": [
    {
     "data": {
      "image/png": "[encoded data removed]",
      "text/plain": [
       "<Figure size 720x576 with 1 Axes>"
      ]
     },
     "metadata": {},
     "output_type": "display_data"
    }
   ],
   "source": [
    "plt.figure(figsize = (10, 8))\n",
    "plt.plot(range(1, len(percep.errors_)+1), percep.errors_, \n",
    "         marker = \"o\",\n",
    "         label = \"error plot\",)\n",
    "plt.xlabel(\"Iterations\")\n",
    "plt.ylabel(\"Missclassifications\")\n",
    "plt.legend()\n",
    "plt.show()\n"
   ]
  },
  {
   "cell_type": "markdown",
   "id": "bf60dbea",
   "metadata": {},
   "source": [
    "From classification accuracy the plot above shows, it seems that missclassification is around 3 and 4 which is also a good performance considering the total sample is 214. There is cliff drop of error when iterations is more than 500."
   ]
  },
  {
   "cell_type": "code",
   "execution_count": 30,
   "id": "2a2d9e6e",
   "metadata": {},
   "outputs": [
    {
     "data": {
      "text/plain": [
       "<AxesSubplot:>"
      ]
     },
     "execution_count": 30,
     "metadata": {},
     "output_type": "execute_result"
    },
    {
     "data": {
      "image/png": "[encoded data removed]",
      "text/plain": [
       "<Figure size 432x288 with 2 Axes>"
      ]
     },
     "metadata": {},
     "output_type": "display_data"
    }
   ],
   "source": [
    "from  sklearn.metrics import confusion_matrix\n",
    "\n",
    "matrix = confusion_matrix(y_test,y_hat)\n",
    "\n",
    "# Convert confusion matrix into dataframe\n",
    "matrix_df = pd.DataFrame(matrix)\n",
    "\n",
    "\n",
    "sns.heatmap(matrix_df, annot = True)"
   ]
  },
  {
   "cell_type": "code",
   "execution_count": 31,
   "id": "f1efab1d",
   "metadata": {},
   "outputs": [
    {
     "name": "stdout",
     "output_type": "stream",
     "text": [
      "Perceptron Classification Report\n",
      "              precision    recall  f1-score   support\n",
      "\n",
      "          -1       0.98      0.95      0.97        59\n",
      "           1       0.90      0.96      0.93        27\n",
      "\n",
      "    accuracy                           0.95        86\n",
      "   macro avg       0.94      0.96      0.95        86\n",
      "weighted avg       0.96      0.95      0.95        86\n",
      " \n",
      "\n"
     ]
    }
   ],
   "source": [
    "from sklearn.metrics import classification_report\n",
    "\n",
    "print(f\"Perceptron Classification Report\")\n",
    "print(classification_report(y_test, y_hat), \"\\n\")"
   ]
  },
  {
   "cell_type": "markdown",
   "id": "4da72f87",
   "metadata": {},
   "source": [
    "From the classfication report and confusion matrix, we can see that the accuracy is good."
   ]
  }
 ],
 "metadata": {
  "kernelspec": {
   "display_name": "Python 3",
   "language": "python",
   "name": "python3"
  },
  "language_info": {
   "codemirror_mode": {
    "name": "ipython",
    "version": 3
   },
   "file_extension": ".py",
   "mimetype": "text/x-python",
   "name": "python",
   "nbconvert_exporter": "python",
   "pygments_lexer": "ipython3",
   "version": "3.8.8"
  }
 },
 "nbformat": 4,
 "nbformat_minor": 5
}
